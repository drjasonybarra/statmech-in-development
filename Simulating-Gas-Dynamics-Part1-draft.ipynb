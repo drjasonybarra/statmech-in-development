{
 "cells": [
  {
   "cell_type": "markdown",
   "metadata": {},
   "source": [
    "# Simulating Gas Dynamics: Part 1\n",
    "A computational activity for Thermal and Statistical Physics developed by Jason E. Ybarra\n",
    "\n",
    "**Learning Objective**: Calculate particle trajectories using computational numerical methods. \n",
    "\n",
    "**Sub-goals for this part**: \n",
    "- Learn to use the *Jupyter* Notebook Python environment.\n",
    "- Refresh function writing skills \n",
    "- Practice working with lists. In particular, lists of VPython objects.\n",
    "- Develop simple function to calculate total force on a particle using the Lennard-Jones potential. \n",
    "- Incorporate the velocity Verlet algorithm to update position and velocity data. \n",
    "---\n"
   ]
  },
  {
   "cell_type": "markdown",
   "metadata": {},
   "source": [
    "## Using a Jupyter Notebook\n",
    "\n",
    "The Jupyter Notebook environment is a browser-based tool for developing, documenting, and running code. A notebook contains a series of cells, which can either contain descriptive text (*Markdown*) or code. You can use the arrow keys to move from one cell to the next, or you can select a cell with the mouse.\n",
    "\n",
    "Within a code cell, code can be written, edited, or executed. To execute the code in a cell use the key combination <kbd>Shift</kbd> + <kbd>Enter</kbd>. (You can also use the Run button in the toolbar)\n",
    "\n",
    "*1*. In the cell below is Python code for loading in the VPython module functions. Select the cell and execute the code.\n"
   ]
  },
  {
   "cell_type": "code",
   "execution_count": null,
   "metadata": {},
   "outputs": [],
   "source": [
    "from vpython import *  #Imports VPython (Glowscript) functions"
   ]
  },
  {
   "cell_type": "markdown",
   "metadata": {},
   "source": [
    "Notice that after the code begins executing, the next cell is highlighted. When execution is complete a number will show up in the brackets before the code (e.g. \\[1\\]). This will allow you to directly use (call) VPython functions. *This way of importing a module **can** be dangerous if the moedule contains a function with the same name of an already loaded or defined function*\n",
    "\n",
    "A potentially safer way of loading a  module is to just use import; you will need the prepend the module name when calling its functions. For example\n",
    "```\n",
    "import math\n",
    "```\n",
    "will load the math module which is a collection of math functions beyond the basic built-in ones \\( [More info on the math module](https://docs.python.org/3/library/math.html) \\). If you want to use the natural exponential function in the math module to evaluate a variable *x* you would type\n",
    "```\n",
    "math.exp(x)\n",
    "```\n",
    "\n",
    "Markdown cells can be edited by double-clicking the mouse on the cell. In Markdown, single asterisks surrounding text will *italicize* it, and double asterisks will make it **bold**. To render the Markdown code use <kbd>Shift</kbd> + <kbd>Enter</kbd>.\n",
    "\n",
    "*2*. For the following cell, fix the Markdown code and render it"
   ]
  },
  {
   "cell_type": "markdown",
   "metadata": {},
   "source": [
    "**This is italicized text**\n",
    "\n",
    "*This text is bold*"
   ]
  },
  {
   "cell_type": "markdown",
   "metadata": {},
   "source": [
    "You can write equations in Markdown using LaTeX commands. For example, \n",
    "the inline equation\n",
    "\\$ x^{2} \\$\n",
    "becomes\n",
    "$ x^{2} $\n",
    "and the display math mode equation\n",
    "```\n",
    "$$ f(x) = \\sqrt{\\frac{\\pi}{2}} $$\n",
    "```\n",
    "becomes\n",
    "$$ f(x) = \\sqrt{\\frac{\\pi}{2}} .$$\n",
    "Trig functions can written using blackslashes \n",
    "(e.g. \\$ \\\\sin x \\$ $\\rightarrow \\sin x$).\n",
    "\n",
    "*3*. In the cell below, using $\\LaTeX$ commands to write the Pythagorean trigonometric identity and the quadratric equation."
   ]
  },
  {
   "cell_type": "markdown",
   "metadata": {},
   "source": [
    "**Pythagorean trigonometric identity**\n",
    "\n",
    "LaTeX code goes here\n",
    "\n",
    "**Quadratic equation**\n",
    "\n",
    "LaTeX code goes here\n",
    "\n",
    "---"
   ]
  },
  {
   "cell_type": "markdown",
   "metadata": {},
   "source": [
    "## Writing Python functions\n",
    "\n",
    "Components of a Python function are\n",
    "- name (in the header)\n",
    "- input variables (in the header)\n",
    "- definition (in the indented body)\n",
    "- *optional* output (using return command in last line of the body)\n",
    "\n",
    "Look at the following piece of Python code \n",
    "\n",
    "```\n",
    "import math\n",
    "\n",
    "def tipcalculator(bill):\n",
    "    tip = math.ceil(0.2 * bill)\n",
    "    return tip\n",
    "```\n",
    "\n",
    "*1*. Indentify the following components of the created function:"
   ]
  },
  {
   "cell_type": "markdown",
   "metadata": {},
   "source": [
    "function name:\n",
    "\n",
    "input variable(s):\n",
    "\n",
    "definition:\n",
    "\n",
    "output:"
   ]
  },
  {
   "cell_type": "markdown",
   "metadata": {},
   "source": [
    "*2*. Execute the code to create the tipcalculator function"
   ]
  },
  {
   "cell_type": "code",
   "execution_count": null,
   "metadata": {},
   "outputs": [],
   "source": [
    "import math\n",
    "\n",
    "def tipcalculator(bill):\n",
    "    tip = math.ceil(0.2 * bill)\n",
    "    return tip"
   ]
  },
  {
   "cell_type": "markdown",
   "metadata": {},
   "source": [
    "Suppose your restaurant bill is \\$14.95. To use the function you can type\n",
    "```\n",
    "tipcalculator(14.95)\n",
    "```\n",
    "You can also output to a new variable\n",
    "```\n",
    "myTip = tipcalculator(14.95)\n",
    "```\n",
    "To see what is contained in a variable, just type the variable name\n",
    "```\n",
    "myTip\n",
    "```\n",
    "\n",
    "*3*. Suppose you want to vary the percentage of the tip given whenever you called the function. Discuss with a partner how you might do this, and write a new function below."
   ]
  },
  {
   "cell_type": "code",
   "execution_count": null,
   "metadata": {},
   "outputs": [],
   "source": [
    "#insert code here "
   ]
  }
 ],
 "metadata": {
  "kernelspec": {
   "display_name": "Python 2",
   "language": "python",
   "name": "python2"
  },
  "language_info": {
   "codemirror_mode": {
    "name": "ipython",
    "version": 2
   },
   "file_extension": ".py",
   "mimetype": "text/x-python",
   "name": "python",
   "nbconvert_exporter": "python",
   "pygments_lexer": "ipython2",
   "version": "2.7.15"
  }
 },
 "nbformat": 4,
 "nbformat_minor": 2
}
